{
  "cells": [
    {
      "cell_type": "markdown",
      "metadata": {
        "id": "view-in-github",
        "colab_type": "text"
      },
      "source": [
        "<a href=\"https://colab.research.google.com/github/kfukutom/stats206-w24-uofm/blob/main/kenfukutomi_hw06.ipynb\" target=\"_parent\"><img src=\"https://colab.research.google.com/assets/colab-badge.svg\" alt=\"Open In Colab\"/></a>"
      ]
    },
    {
      "cell_type": "markdown",
      "metadata": {
        "id": "jEovMqaX5aGk"
      },
      "source": [
        "# Statistics 206, Homework 6\n",
        "\n",
        "As a helpful reminder, please direct questions to Piazza. This will get them the most attention (all GSIs, instructor, fellow students).\n"
      ]
    },
    {
      "cell_type": "code",
      "source": [
        "import pandas as pd\n",
        "import numpy as np\n",
        "import seaborn as sb\n",
        "import matplotlib.pyplot as plt\n",
        "import statsmodels.api as sm\n",
        "\n",
        "pd.options.mode.chained_assignment = None\n",
        "np.random.seed(206206)"
      ],
      "metadata": {
        "id": "hL9DoKyN1sqs"
      },
      "execution_count": 19,
      "outputs": []
    },
    {
      "cell_type": "code",
      "source": [
        "from google.colab import drive\n",
        "drive.mount('/content/gdrive')"
      ],
      "metadata": {
        "colab": {
          "base_uri": "https://localhost:8080/"
        },
        "id": "P1lqky7E1o_5",
        "outputId": "80665996-58c2-42f6-d825-c39511c388ba"
      },
      "execution_count": 20,
      "outputs": [
        {
          "output_type": "stream",
          "name": "stdout",
          "text": [
            "Drive already mounted at /content/gdrive; to attempt to forcibly remount, call drive.mount(\"/content/gdrive\", force_remount=True).\n"
          ]
        }
      ]
    },
    {
      "cell_type": "code",
      "source": [
        "nhanes = pd.read_csv(\"/content/gdrive/MyDrive/Stats 206 Winter 2024/data/nhanes.csv.gz\")\n",
        "nhanes[\"RIAGENDR\"] = nhanes[\"RIAGENDR\"].replace([1,2], [\"Male\", \"Female\"]).astype(\"category\")\n"
      ],
      "metadata": {
        "id": "iNL43FQA17oG"
      },
      "execution_count": 21,
      "outputs": []
    },
    {
      "cell_type": "code",
      "source": [
        "nhanes"
      ],
      "metadata": {
        "colab": {
          "base_uri": "https://localhost:8080/",
          "height": 424
        },
        "id": "7ynf3kcKhJVd",
        "outputId": "f6e390c6-c872-4919-bbbb-160c0a905767"
      },
      "execution_count": 22,
      "outputs": [
        {
          "output_type": "execute_result",
          "data": {
            "text/plain": [
              "         SEQN  RIDAGEYR RIAGENDR  BMXWT  BMXHT  BMXBMI  BPXSY1  BPXSY2  BPXSY3\n",
              "0     83732.0      62.0     Male   94.8  184.5    27.8   128.0   124.0   116.0\n",
              "1     83733.0      53.0     Male   90.4  171.4    30.8   146.0   140.0   134.0\n",
              "2     83734.0      78.0     Male   83.4  170.1    28.8   138.0   132.0   136.0\n",
              "3     83735.0      56.0   Female  109.8  160.9    42.4   132.0   134.0   136.0\n",
              "4     83736.0      42.0   Female   55.2  164.9    20.3   100.0   114.0    98.0\n",
              "...       ...       ...      ...    ...    ...     ...     ...     ...     ...\n",
              "9539  93698.0       2.0     Male    NaN    NaN     NaN     NaN     NaN     NaN\n",
              "9540  93699.0       6.0   Female   29.0  126.2    18.2     NaN     NaN     NaN\n",
              "9541  93700.0      35.0     Male   78.2  173.3    26.0   104.0   106.0   104.0\n",
              "9542  93701.0       8.0     Male   28.8  126.0    18.1   114.0   114.0   114.0\n",
              "9543  93702.0      24.0   Female   58.3  165.0    21.4   118.0   114.0   124.0\n",
              "\n",
              "[9544 rows x 9 columns]"
            ],
            "text/html": [
              "\n",
              "  <div id=\"df-886f0832-28ea-4c6f-9be2-5e8a6247a93f\" class=\"colab-df-container\">\n",
              "    <div>\n",
              "<style scoped>\n",
              "    .dataframe tbody tr th:only-of-type {\n",
              "        vertical-align: middle;\n",
              "    }\n",
              "\n",
              "    .dataframe tbody tr th {\n",
              "        vertical-align: top;\n",
              "    }\n",
              "\n",
              "    .dataframe thead th {\n",
              "        text-align: right;\n",
              "    }\n",
              "</style>\n",
              "<table border=\"1\" class=\"dataframe\">\n",
              "  <thead>\n",
              "    <tr style=\"text-align: right;\">\n",
              "      <th></th>\n",
              "      <th>SEQN</th>\n",
              "      <th>RIDAGEYR</th>\n",
              "      <th>RIAGENDR</th>\n",
              "      <th>BMXWT</th>\n",
              "      <th>BMXHT</th>\n",
              "      <th>BMXBMI</th>\n",
              "      <th>BPXSY1</th>\n",
              "      <th>BPXSY2</th>\n",
              "      <th>BPXSY3</th>\n",
              "    </tr>\n",
              "  </thead>\n",
              "  <tbody>\n",
              "    <tr>\n",
              "      <th>0</th>\n",
              "      <td>83732.0</td>\n",
              "      <td>62.0</td>\n",
              "      <td>Male</td>\n",
              "      <td>94.8</td>\n",
              "      <td>184.5</td>\n",
              "      <td>27.8</td>\n",
              "      <td>128.0</td>\n",
              "      <td>124.0</td>\n",
              "      <td>116.0</td>\n",
              "    </tr>\n",
              "    <tr>\n",
              "      <th>1</th>\n",
              "      <td>83733.0</td>\n",
              "      <td>53.0</td>\n",
              "      <td>Male</td>\n",
              "      <td>90.4</td>\n",
              "      <td>171.4</td>\n",
              "      <td>30.8</td>\n",
              "      <td>146.0</td>\n",
              "      <td>140.0</td>\n",
              "      <td>134.0</td>\n",
              "    </tr>\n",
              "    <tr>\n",
              "      <th>2</th>\n",
              "      <td>83734.0</td>\n",
              "      <td>78.0</td>\n",
              "      <td>Male</td>\n",
              "      <td>83.4</td>\n",
              "      <td>170.1</td>\n",
              "      <td>28.8</td>\n",
              "      <td>138.0</td>\n",
              "      <td>132.0</td>\n",
              "      <td>136.0</td>\n",
              "    </tr>\n",
              "    <tr>\n",
              "      <th>3</th>\n",
              "      <td>83735.0</td>\n",
              "      <td>56.0</td>\n",
              "      <td>Female</td>\n",
              "      <td>109.8</td>\n",
              "      <td>160.9</td>\n",
              "      <td>42.4</td>\n",
              "      <td>132.0</td>\n",
              "      <td>134.0</td>\n",
              "      <td>136.0</td>\n",
              "    </tr>\n",
              "    <tr>\n",
              "      <th>4</th>\n",
              "      <td>83736.0</td>\n",
              "      <td>42.0</td>\n",
              "      <td>Female</td>\n",
              "      <td>55.2</td>\n",
              "      <td>164.9</td>\n",
              "      <td>20.3</td>\n",
              "      <td>100.0</td>\n",
              "      <td>114.0</td>\n",
              "      <td>98.0</td>\n",
              "    </tr>\n",
              "    <tr>\n",
              "      <th>...</th>\n",
              "      <td>...</td>\n",
              "      <td>...</td>\n",
              "      <td>...</td>\n",
              "      <td>...</td>\n",
              "      <td>...</td>\n",
              "      <td>...</td>\n",
              "      <td>...</td>\n",
              "      <td>...</td>\n",
              "      <td>...</td>\n",
              "    </tr>\n",
              "    <tr>\n",
              "      <th>9539</th>\n",
              "      <td>93698.0</td>\n",
              "      <td>2.0</td>\n",
              "      <td>Male</td>\n",
              "      <td>NaN</td>\n",
              "      <td>NaN</td>\n",
              "      <td>NaN</td>\n",
              "      <td>NaN</td>\n",
              "      <td>NaN</td>\n",
              "      <td>NaN</td>\n",
              "    </tr>\n",
              "    <tr>\n",
              "      <th>9540</th>\n",
              "      <td>93699.0</td>\n",
              "      <td>6.0</td>\n",
              "      <td>Female</td>\n",
              "      <td>29.0</td>\n",
              "      <td>126.2</td>\n",
              "      <td>18.2</td>\n",
              "      <td>NaN</td>\n",
              "      <td>NaN</td>\n",
              "      <td>NaN</td>\n",
              "    </tr>\n",
              "    <tr>\n",
              "      <th>9541</th>\n",
              "      <td>93700.0</td>\n",
              "      <td>35.0</td>\n",
              "      <td>Male</td>\n",
              "      <td>78.2</td>\n",
              "      <td>173.3</td>\n",
              "      <td>26.0</td>\n",
              "      <td>104.0</td>\n",
              "      <td>106.0</td>\n",
              "      <td>104.0</td>\n",
              "    </tr>\n",
              "    <tr>\n",
              "      <th>9542</th>\n",
              "      <td>93701.0</td>\n",
              "      <td>8.0</td>\n",
              "      <td>Male</td>\n",
              "      <td>28.8</td>\n",
              "      <td>126.0</td>\n",
              "      <td>18.1</td>\n",
              "      <td>114.0</td>\n",
              "      <td>114.0</td>\n",
              "      <td>114.0</td>\n",
              "    </tr>\n",
              "    <tr>\n",
              "      <th>9543</th>\n",
              "      <td>93702.0</td>\n",
              "      <td>24.0</td>\n",
              "      <td>Female</td>\n",
              "      <td>58.3</td>\n",
              "      <td>165.0</td>\n",
              "      <td>21.4</td>\n",
              "      <td>118.0</td>\n",
              "      <td>114.0</td>\n",
              "      <td>124.0</td>\n",
              "    </tr>\n",
              "  </tbody>\n",
              "</table>\n",
              "<p>9544 rows × 9 columns</p>\n",
              "</div>\n",
              "    <div class=\"colab-df-buttons\">\n",
              "\n",
              "  <div class=\"colab-df-container\">\n",
              "    <button class=\"colab-df-convert\" onclick=\"convertToInteractive('df-886f0832-28ea-4c6f-9be2-5e8a6247a93f')\"\n",
              "            title=\"Convert this dataframe to an interactive table.\"\n",
              "            style=\"display:none;\">\n",
              "\n",
              "  <svg xmlns=\"http://www.w3.org/2000/svg\" height=\"24px\" viewBox=\"0 -960 960 960\">\n",
              "    <path d=\"M120-120v-720h720v720H120Zm60-500h600v-160H180v160Zm220 220h160v-160H400v160Zm0 220h160v-160H400v160ZM180-400h160v-160H180v160Zm440 0h160v-160H620v160ZM180-180h160v-160H180v160Zm440 0h160v-160H620v160Z\"/>\n",
              "  </svg>\n",
              "    </button>\n",
              "\n",
              "  <style>\n",
              "    .colab-df-container {\n",
              "      display:flex;\n",
              "      gap: 12px;\n",
              "    }\n",
              "\n",
              "    .colab-df-convert {\n",
              "      background-color: #E8F0FE;\n",
              "      border: none;\n",
              "      border-radius: 50%;\n",
              "      cursor: pointer;\n",
              "      display: none;\n",
              "      fill: #1967D2;\n",
              "      height: 32px;\n",
              "      padding: 0 0 0 0;\n",
              "      width: 32px;\n",
              "    }\n",
              "\n",
              "    .colab-df-convert:hover {\n",
              "      background-color: #E2EBFA;\n",
              "      box-shadow: 0px 1px 2px rgba(60, 64, 67, 0.3), 0px 1px 3px 1px rgba(60, 64, 67, 0.15);\n",
              "      fill: #174EA6;\n",
              "    }\n",
              "\n",
              "    .colab-df-buttons div {\n",
              "      margin-bottom: 4px;\n",
              "    }\n",
              "\n",
              "    [theme=dark] .colab-df-convert {\n",
              "      background-color: #3B4455;\n",
              "      fill: #D2E3FC;\n",
              "    }\n",
              "\n",
              "    [theme=dark] .colab-df-convert:hover {\n",
              "      background-color: #434B5C;\n",
              "      box-shadow: 0px 1px 3px 1px rgba(0, 0, 0, 0.15);\n",
              "      filter: drop-shadow(0px 1px 2px rgba(0, 0, 0, 0.3));\n",
              "      fill: #FFFFFF;\n",
              "    }\n",
              "  </style>\n",
              "\n",
              "    <script>\n",
              "      const buttonEl =\n",
              "        document.querySelector('#df-886f0832-28ea-4c6f-9be2-5e8a6247a93f button.colab-df-convert');\n",
              "      buttonEl.style.display =\n",
              "        google.colab.kernel.accessAllowed ? 'block' : 'none';\n",
              "\n",
              "      async function convertToInteractive(key) {\n",
              "        const element = document.querySelector('#df-886f0832-28ea-4c6f-9be2-5e8a6247a93f');\n",
              "        const dataTable =\n",
              "          await google.colab.kernel.invokeFunction('convertToInteractive',\n",
              "                                                    [key], {});\n",
              "        if (!dataTable) return;\n",
              "\n",
              "        const docLinkHtml = 'Like what you see? Visit the ' +\n",
              "          '<a target=\"_blank\" href=https://colab.research.google.com/notebooks/data_table.ipynb>data table notebook</a>'\n",
              "          + ' to learn more about interactive tables.';\n",
              "        element.innerHTML = '';\n",
              "        dataTable['output_type'] = 'display_data';\n",
              "        await google.colab.output.renderOutput(dataTable, element);\n",
              "        const docLink = document.createElement('div');\n",
              "        docLink.innerHTML = docLinkHtml;\n",
              "        element.appendChild(docLink);\n",
              "      }\n",
              "    </script>\n",
              "  </div>\n",
              "\n",
              "\n",
              "<div id=\"df-cf3db2a5-7243-48d1-a1bc-3d2a0d6c33da\">\n",
              "  <button class=\"colab-df-quickchart\" onclick=\"quickchart('df-cf3db2a5-7243-48d1-a1bc-3d2a0d6c33da')\"\n",
              "            title=\"Suggest charts\"\n",
              "            style=\"display:none;\">\n",
              "\n",
              "<svg xmlns=\"http://www.w3.org/2000/svg\" height=\"24px\"viewBox=\"0 0 24 24\"\n",
              "     width=\"24px\">\n",
              "    <g>\n",
              "        <path d=\"M19 3H5c-1.1 0-2 .9-2 2v14c0 1.1.9 2 2 2h14c1.1 0 2-.9 2-2V5c0-1.1-.9-2-2-2zM9 17H7v-7h2v7zm4 0h-2V7h2v10zm4 0h-2v-4h2v4z\"/>\n",
              "    </g>\n",
              "</svg>\n",
              "  </button>\n",
              "\n",
              "<style>\n",
              "  .colab-df-quickchart {\n",
              "      --bg-color: #E8F0FE;\n",
              "      --fill-color: #1967D2;\n",
              "      --hover-bg-color: #E2EBFA;\n",
              "      --hover-fill-color: #174EA6;\n",
              "      --disabled-fill-color: #AAA;\n",
              "      --disabled-bg-color: #DDD;\n",
              "  }\n",
              "\n",
              "  [theme=dark] .colab-df-quickchart {\n",
              "      --bg-color: #3B4455;\n",
              "      --fill-color: #D2E3FC;\n",
              "      --hover-bg-color: #434B5C;\n",
              "      --hover-fill-color: #FFFFFF;\n",
              "      --disabled-bg-color: #3B4455;\n",
              "      --disabled-fill-color: #666;\n",
              "  }\n",
              "\n",
              "  .colab-df-quickchart {\n",
              "    background-color: var(--bg-color);\n",
              "    border: none;\n",
              "    border-radius: 50%;\n",
              "    cursor: pointer;\n",
              "    display: none;\n",
              "    fill: var(--fill-color);\n",
              "    height: 32px;\n",
              "    padding: 0;\n",
              "    width: 32px;\n",
              "  }\n",
              "\n",
              "  .colab-df-quickchart:hover {\n",
              "    background-color: var(--hover-bg-color);\n",
              "    box-shadow: 0 1px 2px rgba(60, 64, 67, 0.3), 0 1px 3px 1px rgba(60, 64, 67, 0.15);\n",
              "    fill: var(--button-hover-fill-color);\n",
              "  }\n",
              "\n",
              "  .colab-df-quickchart-complete:disabled,\n",
              "  .colab-df-quickchart-complete:disabled:hover {\n",
              "    background-color: var(--disabled-bg-color);\n",
              "    fill: var(--disabled-fill-color);\n",
              "    box-shadow: none;\n",
              "  }\n",
              "\n",
              "  .colab-df-spinner {\n",
              "    border: 2px solid var(--fill-color);\n",
              "    border-color: transparent;\n",
              "    border-bottom-color: var(--fill-color);\n",
              "    animation:\n",
              "      spin 1s steps(1) infinite;\n",
              "  }\n",
              "\n",
              "  @keyframes spin {\n",
              "    0% {\n",
              "      border-color: transparent;\n",
              "      border-bottom-color: var(--fill-color);\n",
              "      border-left-color: var(--fill-color);\n",
              "    }\n",
              "    20% {\n",
              "      border-color: transparent;\n",
              "      border-left-color: var(--fill-color);\n",
              "      border-top-color: var(--fill-color);\n",
              "    }\n",
              "    30% {\n",
              "      border-color: transparent;\n",
              "      border-left-color: var(--fill-color);\n",
              "      border-top-color: var(--fill-color);\n",
              "      border-right-color: var(--fill-color);\n",
              "    }\n",
              "    40% {\n",
              "      border-color: transparent;\n",
              "      border-right-color: var(--fill-color);\n",
              "      border-top-color: var(--fill-color);\n",
              "    }\n",
              "    60% {\n",
              "      border-color: transparent;\n",
              "      border-right-color: var(--fill-color);\n",
              "    }\n",
              "    80% {\n",
              "      border-color: transparent;\n",
              "      border-right-color: var(--fill-color);\n",
              "      border-bottom-color: var(--fill-color);\n",
              "    }\n",
              "    90% {\n",
              "      border-color: transparent;\n",
              "      border-bottom-color: var(--fill-color);\n",
              "    }\n",
              "  }\n",
              "</style>\n",
              "\n",
              "  <script>\n",
              "    async function quickchart(key) {\n",
              "      const quickchartButtonEl =\n",
              "        document.querySelector('#' + key + ' button');\n",
              "      quickchartButtonEl.disabled = true;  // To prevent multiple clicks.\n",
              "      quickchartButtonEl.classList.add('colab-df-spinner');\n",
              "      try {\n",
              "        const charts = await google.colab.kernel.invokeFunction(\n",
              "            'suggestCharts', [key], {});\n",
              "      } catch (error) {\n",
              "        console.error('Error during call to suggestCharts:', error);\n",
              "      }\n",
              "      quickchartButtonEl.classList.remove('colab-df-spinner');\n",
              "      quickchartButtonEl.classList.add('colab-df-quickchart-complete');\n",
              "    }\n",
              "    (() => {\n",
              "      let quickchartButtonEl =\n",
              "        document.querySelector('#df-cf3db2a5-7243-48d1-a1bc-3d2a0d6c33da button');\n",
              "      quickchartButtonEl.style.display =\n",
              "        google.colab.kernel.accessAllowed ? 'block' : 'none';\n",
              "    })();\n",
              "  </script>\n",
              "</div>\n",
              "    </div>\n",
              "  </div>\n"
            ],
            "application/vnd.google.colaboratory.intrinsic+json": {
              "type": "dataframe",
              "variable_name": "nhanes",
              "summary": "{\n  \"name\": \"nhanes\",\n  \"rows\": 9544,\n  \"fields\": [\n    {\n      \"column\": \"SEQN\",\n      \"properties\": {\n        \"dtype\": \"number\",\n        \"std\": 2878.5164176777903,\n        \"min\": 83732.0,\n        \"max\": 93702.0,\n        \"num_unique_values\": 9544,\n        \"samples\": [\n          89453.0,\n          93117.0,\n          88655.0\n        ],\n        \"semantic_type\": \"\",\n        \"description\": \"\"\n      }\n    },\n    {\n      \"column\": \"RIDAGEYR\",\n      \"properties\": {\n        \"dtype\": \"number\",\n        \"std\": 24.68646315906415,\n        \"min\": 5.397605346934028e-79,\n        \"max\": 80.0,\n        \"num_unique_values\": 81,\n        \"samples\": [\n          80.0,\n          62.0,\n          24.0\n        ],\n        \"semantic_type\": \"\",\n        \"description\": \"\"\n      }\n    },\n    {\n      \"column\": \"RIAGENDR\",\n      \"properties\": {\n        \"dtype\": \"category\",\n        \"num_unique_values\": 2,\n        \"samples\": [\n          \"Female\",\n          \"Male\"\n        ],\n        \"semantic_type\": \"\",\n        \"description\": \"\"\n      }\n    },\n    {\n      \"column\": \"BMXWT\",\n      \"properties\": {\n        \"dtype\": \"number\",\n        \"std\": 32.36436714618733,\n        \"min\": 3.6,\n        \"max\": 198.9,\n        \"num_unique_values\": 1382,\n        \"samples\": [\n          83.2,\n          119.4\n        ],\n        \"semantic_type\": \"\",\n        \"description\": \"\"\n      }\n    },\n    {\n      \"column\": \"BMXHT\",\n      \"properties\": {\n        \"dtype\": \"number\",\n        \"std\": 23.002310501637,\n        \"min\": 80.7,\n        \"max\": 202.7,\n        \"num_unique_values\": 1052,\n        \"samples\": [\n          155.3,\n          135.2\n        ],\n        \"semantic_type\": \"\",\n        \"description\": \"\"\n      }\n    },\n    {\n      \"column\": \"BMXBMI\",\n      \"properties\": {\n        \"dtype\": \"number\",\n        \"std\": 7.963873447221168,\n        \"min\": 11.5,\n        \"max\": 67.3,\n        \"num_unique_values\": 429,\n        \"samples\": [\n          44.8,\n          23.1\n        ],\n        \"semantic_type\": \"\",\n        \"description\": \"\"\n      }\n    },\n    {\n      \"column\": \"BPXSY1\",\n      \"properties\": {\n        \"dtype\": \"number\",\n        \"std\": 18.616921011757864,\n        \"min\": 72.0,\n        \"max\": 236.0,\n        \"num_unique_values\": 72,\n        \"samples\": [\n          100.0,\n          80.0\n        ],\n        \"semantic_type\": \"\",\n        \"description\": \"\"\n      }\n    },\n    {\n      \"column\": \"BPXSY2\",\n      \"properties\": {\n        \"dtype\": \"number\",\n        \"std\": 18.62409783469379,\n        \"min\": 76.0,\n        \"max\": 238.0,\n        \"num_unique_values\": 70,\n        \"samples\": [\n          118.0,\n          124.0\n        ],\n        \"semantic_type\": \"\",\n        \"description\": \"\"\n      }\n    },\n    {\n      \"column\": \"BPXSY3\",\n      \"properties\": {\n        \"dtype\": \"number\",\n        \"std\": 18.28824471339092,\n        \"min\": 76.0,\n        \"max\": 226.0,\n        \"num_unique_values\": 71,\n        \"samples\": [\n          140.0,\n          116.0\n        ],\n        \"semantic_type\": \"\",\n        \"description\": \"\"\n      }\n    }\n  ]\n}"
            }
          },
          "metadata": {},
          "execution_count": 22
        }
      ]
    },
    {
      "cell_type": "markdown",
      "metadata": {
        "id": "5pu_eiQ-5aGn"
      },
      "source": [
        "## Question 1\n",
        "\n",
        "Let's load and review the National Health and Nutrition Examination Survey (NHANES) data."
      ]
    },
    {
      "cell_type": "code",
      "execution_count": 23,
      "metadata": {
        "id": "phPkNA5U5aGn",
        "outputId": "6702e5a4-173a-4405-ade9-bfb4ab2c436c",
        "colab": {
          "base_uri": "https://localhost:8080/"
        }
      },
      "outputs": [
        {
          "output_type": "execute_result",
          "data": {
            "text/plain": [
              "0       62.0\n",
              "1       53.0\n",
              "2       78.0\n",
              "3       56.0\n",
              "4       42.0\n",
              "        ... \n",
              "9539     2.0\n",
              "9540     6.0\n",
              "9541    35.0\n",
              "9542     8.0\n",
              "9543    24.0\n",
              "Name: RIDAGEYR, Length: 9544, dtype: float64"
            ]
          },
          "metadata": {},
          "execution_count": 23
        }
      ],
      "source": [
        "nhanes[\"RIDAGEYR\"]"
      ]
    },
    {
      "cell_type": "markdown",
      "metadata": {
        "id": "tkqc6ain5aGn"
      },
      "source": [
        "### Q1.a\n",
        "\n",
        "Previously, we've focused on people over the age of 18. In this question, we will look at children.\n",
        "\n",
        "Create a table based on `nhanes` that only contains people under the age of 19 (i.e. 18 and younger). Call this table `youth`.\n",
        "\n",
        "Create a scatter plot of `BMXHT` (y-axis) and `RIDAGEYR` (x-axis). Briefly comment on the direction of this relationship. Does it seem like data where a straight line would be a reasonable approximation for the conditional mean?"
      ]
    },
    {
      "cell_type": "code",
      "source": [
        "youth = nhanes.loc[nhanes[\"RIDAGEYR\"] < 19]\n",
        "youth"
      ],
      "metadata": {
        "id": "EeYvjYL_5Yfj",
        "colab": {
          "base_uri": "https://localhost:8080/",
          "height": 424
        },
        "outputId": "d459f0e6-8864-40e1-8a4b-ac5a715c8653"
      },
      "execution_count": 24,
      "outputs": [
        {
          "output_type": "execute_result",
          "data": {
            "text/plain": [
              "         SEQN  RIDAGEYR RIAGENDR  BMXWT  BMXHT  BMXBMI  BPXSY1  BPXSY2  BPXSY3\n",
              "6     83738.0      11.0   Female   37.2  143.5    18.1   102.0    98.0   100.0\n",
              "7     83739.0       4.0     Male   16.4  102.1    15.7     NaN     NaN     NaN\n",
              "8     83740.0       1.0     Male   10.1    NaN     NaN     NaN     NaN     NaN\n",
              "11    83743.0      18.0     Male   72.4  166.1    26.2     NaN     NaN     NaN\n",
              "13    83745.0      15.0   Female   71.7  169.2    25.0   108.0   120.0   106.0\n",
              "...       ...       ...      ...    ...    ...     ...     ...     ...     ...\n",
              "9534  93693.0       7.0     Male   33.0  135.4    18.0     NaN     NaN     NaN\n",
              "9535  93694.0       7.0     Male   36.2  124.7    23.3     NaN     NaN     NaN\n",
              "9539  93698.0       2.0     Male    NaN    NaN     NaN     NaN     NaN     NaN\n",
              "9540  93699.0       6.0   Female   29.0  126.2    18.2     NaN     NaN     NaN\n",
              "9542  93701.0       8.0     Male   28.8  126.0    18.1   114.0   114.0   114.0\n",
              "\n",
              "[3942 rows x 9 columns]"
            ],
            "text/html": [
              "\n",
              "  <div id=\"df-9bea65d0-a290-47cd-9f43-ec6739e10125\" class=\"colab-df-container\">\n",
              "    <div>\n",
              "<style scoped>\n",
              "    .dataframe tbody tr th:only-of-type {\n",
              "        vertical-align: middle;\n",
              "    }\n",
              "\n",
              "    .dataframe tbody tr th {\n",
              "        vertical-align: top;\n",
              "    }\n",
              "\n",
              "    .dataframe thead th {\n",
              "        text-align: right;\n",
              "    }\n",
              "</style>\n",
              "<table border=\"1\" class=\"dataframe\">\n",
              "  <thead>\n",
              "    <tr style=\"text-align: right;\">\n",
              "      <th></th>\n",
              "      <th>SEQN</th>\n",
              "      <th>RIDAGEYR</th>\n",
              "      <th>RIAGENDR</th>\n",
              "      <th>BMXWT</th>\n",
              "      <th>BMXHT</th>\n",
              "      <th>BMXBMI</th>\n",
              "      <th>BPXSY1</th>\n",
              "      <th>BPXSY2</th>\n",
              "      <th>BPXSY3</th>\n",
              "    </tr>\n",
              "  </thead>\n",
              "  <tbody>\n",
              "    <tr>\n",
              "      <th>6</th>\n",
              "      <td>83738.0</td>\n",
              "      <td>11.0</td>\n",
              "      <td>Female</td>\n",
              "      <td>37.2</td>\n",
              "      <td>143.5</td>\n",
              "      <td>18.1</td>\n",
              "      <td>102.0</td>\n",
              "      <td>98.0</td>\n",
              "      <td>100.0</td>\n",
              "    </tr>\n",
              "    <tr>\n",
              "      <th>7</th>\n",
              "      <td>83739.0</td>\n",
              "      <td>4.0</td>\n",
              "      <td>Male</td>\n",
              "      <td>16.4</td>\n",
              "      <td>102.1</td>\n",
              "      <td>15.7</td>\n",
              "      <td>NaN</td>\n",
              "      <td>NaN</td>\n",
              "      <td>NaN</td>\n",
              "    </tr>\n",
              "    <tr>\n",
              "      <th>8</th>\n",
              "      <td>83740.0</td>\n",
              "      <td>1.0</td>\n",
              "      <td>Male</td>\n",
              "      <td>10.1</td>\n",
              "      <td>NaN</td>\n",
              "      <td>NaN</td>\n",
              "      <td>NaN</td>\n",
              "      <td>NaN</td>\n",
              "      <td>NaN</td>\n",
              "    </tr>\n",
              "    <tr>\n",
              "      <th>11</th>\n",
              "      <td>83743.0</td>\n",
              "      <td>18.0</td>\n",
              "      <td>Male</td>\n",
              "      <td>72.4</td>\n",
              "      <td>166.1</td>\n",
              "      <td>26.2</td>\n",
              "      <td>NaN</td>\n",
              "      <td>NaN</td>\n",
              "      <td>NaN</td>\n",
              "    </tr>\n",
              "    <tr>\n",
              "      <th>13</th>\n",
              "      <td>83745.0</td>\n",
              "      <td>15.0</td>\n",
              "      <td>Female</td>\n",
              "      <td>71.7</td>\n",
              "      <td>169.2</td>\n",
              "      <td>25.0</td>\n",
              "      <td>108.0</td>\n",
              "      <td>120.0</td>\n",
              "      <td>106.0</td>\n",
              "    </tr>\n",
              "    <tr>\n",
              "      <th>...</th>\n",
              "      <td>...</td>\n",
              "      <td>...</td>\n",
              "      <td>...</td>\n",
              "      <td>...</td>\n",
              "      <td>...</td>\n",
              "      <td>...</td>\n",
              "      <td>...</td>\n",
              "      <td>...</td>\n",
              "      <td>...</td>\n",
              "    </tr>\n",
              "    <tr>\n",
              "      <th>9534</th>\n",
              "      <td>93693.0</td>\n",
              "      <td>7.0</td>\n",
              "      <td>Male</td>\n",
              "      <td>33.0</td>\n",
              "      <td>135.4</td>\n",
              "      <td>18.0</td>\n",
              "      <td>NaN</td>\n",
              "      <td>NaN</td>\n",
              "      <td>NaN</td>\n",
              "    </tr>\n",
              "    <tr>\n",
              "      <th>9535</th>\n",
              "      <td>93694.0</td>\n",
              "      <td>7.0</td>\n",
              "      <td>Male</td>\n",
              "      <td>36.2</td>\n",
              "      <td>124.7</td>\n",
              "      <td>23.3</td>\n",
              "      <td>NaN</td>\n",
              "      <td>NaN</td>\n",
              "      <td>NaN</td>\n",
              "    </tr>\n",
              "    <tr>\n",
              "      <th>9539</th>\n",
              "      <td>93698.0</td>\n",
              "      <td>2.0</td>\n",
              "      <td>Male</td>\n",
              "      <td>NaN</td>\n",
              "      <td>NaN</td>\n",
              "      <td>NaN</td>\n",
              "      <td>NaN</td>\n",
              "      <td>NaN</td>\n",
              "      <td>NaN</td>\n",
              "    </tr>\n",
              "    <tr>\n",
              "      <th>9540</th>\n",
              "      <td>93699.0</td>\n",
              "      <td>6.0</td>\n",
              "      <td>Female</td>\n",
              "      <td>29.0</td>\n",
              "      <td>126.2</td>\n",
              "      <td>18.2</td>\n",
              "      <td>NaN</td>\n",
              "      <td>NaN</td>\n",
              "      <td>NaN</td>\n",
              "    </tr>\n",
              "    <tr>\n",
              "      <th>9542</th>\n",
              "      <td>93701.0</td>\n",
              "      <td>8.0</td>\n",
              "      <td>Male</td>\n",
              "      <td>28.8</td>\n",
              "      <td>126.0</td>\n",
              "      <td>18.1</td>\n",
              "      <td>114.0</td>\n",
              "      <td>114.0</td>\n",
              "      <td>114.0</td>\n",
              "    </tr>\n",
              "  </tbody>\n",
              "</table>\n",
              "<p>3942 rows × 9 columns</p>\n",
              "</div>\n",
              "    <div class=\"colab-df-buttons\">\n",
              "\n",
              "  <div class=\"colab-df-container\">\n",
              "    <button class=\"colab-df-convert\" onclick=\"convertToInteractive('df-9bea65d0-a290-47cd-9f43-ec6739e10125')\"\n",
              "            title=\"Convert this dataframe to an interactive table.\"\n",
              "            style=\"display:none;\">\n",
              "\n",
              "  <svg xmlns=\"http://www.w3.org/2000/svg\" height=\"24px\" viewBox=\"0 -960 960 960\">\n",
              "    <path d=\"M120-120v-720h720v720H120Zm60-500h600v-160H180v160Zm220 220h160v-160H400v160Zm0 220h160v-160H400v160ZM180-400h160v-160H180v160Zm440 0h160v-160H620v160ZM180-180h160v-160H180v160Zm440 0h160v-160H620v160Z\"/>\n",
              "  </svg>\n",
              "    </button>\n",
              "\n",
              "  <style>\n",
              "    .colab-df-container {\n",
              "      display:flex;\n",
              "      gap: 12px;\n",
              "    }\n",
              "\n",
              "    .colab-df-convert {\n",
              "      background-color: #E8F0FE;\n",
              "      border: none;\n",
              "      border-radius: 50%;\n",
              "      cursor: pointer;\n",
              "      display: none;\n",
              "      fill: #1967D2;\n",
              "      height: 32px;\n",
              "      padding: 0 0 0 0;\n",
              "      width: 32px;\n",
              "    }\n",
              "\n",
              "    .colab-df-convert:hover {\n",
              "      background-color: #E2EBFA;\n",
              "      box-shadow: 0px 1px 2px rgba(60, 64, 67, 0.3), 0px 1px 3px 1px rgba(60, 64, 67, 0.15);\n",
              "      fill: #174EA6;\n",
              "    }\n",
              "\n",
              "    .colab-df-buttons div {\n",
              "      margin-bottom: 4px;\n",
              "    }\n",
              "\n",
              "    [theme=dark] .colab-df-convert {\n",
              "      background-color: #3B4455;\n",
              "      fill: #D2E3FC;\n",
              "    }\n",
              "\n",
              "    [theme=dark] .colab-df-convert:hover {\n",
              "      background-color: #434B5C;\n",
              "      box-shadow: 0px 1px 3px 1px rgba(0, 0, 0, 0.15);\n",
              "      filter: drop-shadow(0px 1px 2px rgba(0, 0, 0, 0.3));\n",
              "      fill: #FFFFFF;\n",
              "    }\n",
              "  </style>\n",
              "\n",
              "    <script>\n",
              "      const buttonEl =\n",
              "        document.querySelector('#df-9bea65d0-a290-47cd-9f43-ec6739e10125 button.colab-df-convert');\n",
              "      buttonEl.style.display =\n",
              "        google.colab.kernel.accessAllowed ? 'block' : 'none';\n",
              "\n",
              "      async function convertToInteractive(key) {\n",
              "        const element = document.querySelector('#df-9bea65d0-a290-47cd-9f43-ec6739e10125');\n",
              "        const dataTable =\n",
              "          await google.colab.kernel.invokeFunction('convertToInteractive',\n",
              "                                                    [key], {});\n",
              "        if (!dataTable) return;\n",
              "\n",
              "        const docLinkHtml = 'Like what you see? Visit the ' +\n",
              "          '<a target=\"_blank\" href=https://colab.research.google.com/notebooks/data_table.ipynb>data table notebook</a>'\n",
              "          + ' to learn more about interactive tables.';\n",
              "        element.innerHTML = '';\n",
              "        dataTable['output_type'] = 'display_data';\n",
              "        await google.colab.output.renderOutput(dataTable, element);\n",
              "        const docLink = document.createElement('div');\n",
              "        docLink.innerHTML = docLinkHtml;\n",
              "        element.appendChild(docLink);\n",
              "      }\n",
              "    </script>\n",
              "  </div>\n",
              "\n",
              "\n",
              "<div id=\"df-c0c8ce50-2db4-4053-bade-5db08367049d\">\n",
              "  <button class=\"colab-df-quickchart\" onclick=\"quickchart('df-c0c8ce50-2db4-4053-bade-5db08367049d')\"\n",
              "            title=\"Suggest charts\"\n",
              "            style=\"display:none;\">\n",
              "\n",
              "<svg xmlns=\"http://www.w3.org/2000/svg\" height=\"24px\"viewBox=\"0 0 24 24\"\n",
              "     width=\"24px\">\n",
              "    <g>\n",
              "        <path d=\"M19 3H5c-1.1 0-2 .9-2 2v14c0 1.1.9 2 2 2h14c1.1 0 2-.9 2-2V5c0-1.1-.9-2-2-2zM9 17H7v-7h2v7zm4 0h-2V7h2v10zm4 0h-2v-4h2v4z\"/>\n",
              "    </g>\n",
              "</svg>\n",
              "  </button>\n",
              "\n",
              "<style>\n",
              "  .colab-df-quickchart {\n",
              "      --bg-color: #E8F0FE;\n",
              "      --fill-color: #1967D2;\n",
              "      --hover-bg-color: #E2EBFA;\n",
              "      --hover-fill-color: #174EA6;\n",
              "      --disabled-fill-color: #AAA;\n",
              "      --disabled-bg-color: #DDD;\n",
              "  }\n",
              "\n",
              "  [theme=dark] .colab-df-quickchart {\n",
              "      --bg-color: #3B4455;\n",
              "      --fill-color: #D2E3FC;\n",
              "      --hover-bg-color: #434B5C;\n",
              "      --hover-fill-color: #FFFFFF;\n",
              "      --disabled-bg-color: #3B4455;\n",
              "      --disabled-fill-color: #666;\n",
              "  }\n",
              "\n",
              "  .colab-df-quickchart {\n",
              "    background-color: var(--bg-color);\n",
              "    border: none;\n",
              "    border-radius: 50%;\n",
              "    cursor: pointer;\n",
              "    display: none;\n",
              "    fill: var(--fill-color);\n",
              "    height: 32px;\n",
              "    padding: 0;\n",
              "    width: 32px;\n",
              "  }\n",
              "\n",
              "  .colab-df-quickchart:hover {\n",
              "    background-color: var(--hover-bg-color);\n",
              "    box-shadow: 0 1px 2px rgba(60, 64, 67, 0.3), 0 1px 3px 1px rgba(60, 64, 67, 0.15);\n",
              "    fill: var(--button-hover-fill-color);\n",
              "  }\n",
              "\n",
              "  .colab-df-quickchart-complete:disabled,\n",
              "  .colab-df-quickchart-complete:disabled:hover {\n",
              "    background-color: var(--disabled-bg-color);\n",
              "    fill: var(--disabled-fill-color);\n",
              "    box-shadow: none;\n",
              "  }\n",
              "\n",
              "  .colab-df-spinner {\n",
              "    border: 2px solid var(--fill-color);\n",
              "    border-color: transparent;\n",
              "    border-bottom-color: var(--fill-color);\n",
              "    animation:\n",
              "      spin 1s steps(1) infinite;\n",
              "  }\n",
              "\n",
              "  @keyframes spin {\n",
              "    0% {\n",
              "      border-color: transparent;\n",
              "      border-bottom-color: var(--fill-color);\n",
              "      border-left-color: var(--fill-color);\n",
              "    }\n",
              "    20% {\n",
              "      border-color: transparent;\n",
              "      border-left-color: var(--fill-color);\n",
              "      border-top-color: var(--fill-color);\n",
              "    }\n",
              "    30% {\n",
              "      border-color: transparent;\n",
              "      border-left-color: var(--fill-color);\n",
              "      border-top-color: var(--fill-color);\n",
              "      border-right-color: var(--fill-color);\n",
              "    }\n",
              "    40% {\n",
              "      border-color: transparent;\n",
              "      border-right-color: var(--fill-color);\n",
              "      border-top-color: var(--fill-color);\n",
              "    }\n",
              "    60% {\n",
              "      border-color: transparent;\n",
              "      border-right-color: var(--fill-color);\n",
              "    }\n",
              "    80% {\n",
              "      border-color: transparent;\n",
              "      border-right-color: var(--fill-color);\n",
              "      border-bottom-color: var(--fill-color);\n",
              "    }\n",
              "    90% {\n",
              "      border-color: transparent;\n",
              "      border-bottom-color: var(--fill-color);\n",
              "    }\n",
              "  }\n",
              "</style>\n",
              "\n",
              "  <script>\n",
              "    async function quickchart(key) {\n",
              "      const quickchartButtonEl =\n",
              "        document.querySelector('#' + key + ' button');\n",
              "      quickchartButtonEl.disabled = true;  // To prevent multiple clicks.\n",
              "      quickchartButtonEl.classList.add('colab-df-spinner');\n",
              "      try {\n",
              "        const charts = await google.colab.kernel.invokeFunction(\n",
              "            'suggestCharts', [key], {});\n",
              "      } catch (error) {\n",
              "        console.error('Error during call to suggestCharts:', error);\n",
              "      }\n",
              "      quickchartButtonEl.classList.remove('colab-df-spinner');\n",
              "      quickchartButtonEl.classList.add('colab-df-quickchart-complete');\n",
              "    }\n",
              "    (() => {\n",
              "      let quickchartButtonEl =\n",
              "        document.querySelector('#df-c0c8ce50-2db4-4053-bade-5db08367049d button');\n",
              "      quickchartButtonEl.style.display =\n",
              "        google.colab.kernel.accessAllowed ? 'block' : 'none';\n",
              "    })();\n",
              "  </script>\n",
              "</div>\n",
              "    </div>\n",
              "  </div>\n"
            ],
            "application/vnd.google.colaboratory.intrinsic+json": {
              "type": "dataframe",
              "variable_name": "youth",
              "summary": "{\n  \"name\": \"youth\",\n  \"rows\": 3942,\n  \"fields\": [\n    {\n      \"column\": \"SEQN\",\n      \"properties\": {\n        \"dtype\": \"number\",\n        \"std\": 2875.0230520331343,\n        \"min\": 83738.0,\n        \"max\": 93701.0,\n        \"num_unique_values\": 3942,\n        \"samples\": [\n          85838.0,\n          85839.0,\n          88750.0\n        ],\n        \"semantic_type\": \"\",\n        \"description\": \"\"\n      }\n    },\n    {\n      \"column\": \"RIDAGEYR\",\n      \"properties\": {\n        \"dtype\": \"number\",\n        \"std\": 5.513853612623788,\n        \"min\": 5.397605346934028e-79,\n        \"max\": 18.0,\n        \"num_unique_values\": 19,\n        \"samples\": [\n          11.0,\n          3.0,\n          10.0\n        ],\n        \"semantic_type\": \"\",\n        \"description\": \"\"\n      }\n    },\n    {\n      \"column\": \"RIAGENDR\",\n      \"properties\": {\n        \"dtype\": \"category\",\n        \"num_unique_values\": 2,\n        \"samples\": [\n          \"Male\",\n          \"Female\"\n        ],\n        \"semantic_type\": \"\",\n        \"description\": \"\"\n      }\n    },\n    {\n      \"column\": \"BMXWT\",\n      \"properties\": {\n        \"dtype\": \"number\",\n        \"std\": 24.907994049591135,\n        \"min\": 3.6,\n        \"max\": 163.6,\n        \"num_unique_values\": 903,\n        \"samples\": [\n          68.2,\n          41.6\n        ],\n        \"semantic_type\": \"\",\n        \"description\": \"\"\n      }\n    },\n    {\n      \"column\": \"BMXHT\",\n      \"properties\": {\n        \"dtype\": \"number\",\n        \"std\": 26.345559424835677,\n        \"min\": 80.7,\n        \"max\": 200.7,\n        \"num_unique_values\": 951,\n        \"samples\": [\n          138.1,\n          130.2\n        ],\n        \"semantic_type\": \"\",\n        \"description\": \"\"\n      }\n    },\n    {\n      \"column\": \"BMXBMI\",\n      \"properties\": {\n        \"dtype\": \"number\",\n        \"std\": 5.596815516212687,\n        \"min\": 11.5,\n        \"max\": 51.3,\n        \"num_unique_values\": 279,\n        \"samples\": [\n          21.6,\n          25.8\n        ],\n        \"semantic_type\": \"\",\n        \"description\": \"\"\n      }\n    },\n    {\n      \"column\": \"BPXSY1\",\n      \"properties\": {\n        \"dtype\": \"number\",\n        \"std\": 10.161976310708793,\n        \"min\": 72.0,\n        \"max\": 158.0,\n        \"num_unique_values\": 39,\n        \"samples\": [\n          142.0,\n          140.0\n        ],\n        \"semantic_type\": \"\",\n        \"description\": \"\"\n      }\n    },\n    {\n      \"column\": \"BPXSY2\",\n      \"properties\": {\n        \"dtype\": \"number\",\n        \"std\": 10.356539371769403,\n        \"min\": 76.0,\n        \"max\": 156.0,\n        \"num_unique_values\": 37,\n        \"samples\": [\n          92.0,\n          88.0\n        ],\n        \"semantic_type\": \"\",\n        \"description\": \"\"\n      }\n    },\n    {\n      \"column\": \"BPXSY3\",\n      \"properties\": {\n        \"dtype\": \"number\",\n        \"std\": 10.460361035884596,\n        \"min\": 78.0,\n        \"max\": 162.0,\n        \"num_unique_values\": 38,\n        \"samples\": [\n          144.0,\n          148.0\n        ],\n        \"semantic_type\": \"\",\n        \"description\": \"\"\n      }\n    }\n  ]\n}"
            }
          },
          "metadata": {},
          "execution_count": 24
        }
      ]
    },
    {
      "cell_type": "code",
      "source": [
        "\"\"\"\n",
        "Create a scatter plot of BMXHT (y-axis) and RIDAGEYR (x-axis). Briefly comment on the direction of this relationship.\n",
        "Does it seem like data where a straight line would be a reasonable approximation for the conditional mean?\n",
        "\"\"\"\n",
        "x = plt.scatter(data=youth, x=\"RIDAGEYR\", y=\"BMXHT\", alpha = 0.6, edgecolors=\"black\")\n",
        "y = sb.scatterplot(data=youth, x=youth[\"RIDAGEYR\"], y=youth[\"BMXHT\"], color=\"blue\", alpha=0.6)\n",
        "print(y)"
      ],
      "metadata": {
        "colab": {
          "base_uri": "https://localhost:8080/",
          "height": 467
        },
        "id": "gAPMakBNhxsN",
        "outputId": "5b63a416-2eea-4a26-f91b-3dd1cf89472b"
      },
      "execution_count": 25,
      "outputs": [
        {
          "output_type": "stream",
          "name": "stdout",
          "text": [
            "Axes(0.125,0.11;0.775x0.77)\n"
          ]
        },
        {
          "output_type": "display_data",
          "data": {
            "text/plain": [
              "<Figure size 640x480 with 1 Axes>"
            ],
            "image/png": "[encoded data removed]"
          },
          "metadata": {}
        }
      ]
    },
    {
      "cell_type": "markdown",
      "source": [
        "There is definitely a left skew distribution going on in this scatterplot."
      ],
      "metadata": {
        "id": "GzQf6YFY5Ytc"
      }
    },
    {
      "cell_type": "markdown",
      "metadata": {
        "id": "DOALuJAd5aGn"
      },
      "source": [
        "### Q1.b\n",
        "\n",
        "For these data, we may be better off treating them as ordinal (at least to start). Stratify on age, and compute the conditional mean of height within each age category (the `reset_index()` method will probably be helpful for the next step).\n",
        "\n",
        "Show the results as a line plot.\n",
        "\n",
        "Does this confirm that a straight line may be a reasonable approximation to the true conditional mean function? Might it be better to restrict out analysis to a certain age range?"
      ]
    },
    {
      "cell_type": "code",
      "source": [
        "nhanes.columns"
      ],
      "metadata": {
        "colab": {
          "base_uri": "https://localhost:8080/"
        },
        "id": "QESaixhs8ioM",
        "outputId": "495f7810-7c8f-4ee4-bba8-851da60068fb"
      },
      "execution_count": 26,
      "outputs": [
        {
          "output_type": "execute_result",
          "data": {
            "text/plain": [
              "Index(['SEQN', 'RIDAGEYR', 'RIAGENDR', 'BMXWT', 'BMXHT', 'BMXBMI', 'BPXSY1',\n",
              "       'BPXSY2', 'BPXSY3'],\n",
              "      dtype='object')"
            ]
          },
          "metadata": {},
          "execution_count": 26
        }
      ]
    },
    {
      "cell_type": "code",
      "source": [
        "nhanes_age_height = youth.groupby('RIDAGEYR')['BMXHT'].mean().reset_index()\n",
        "\n",
        "plt.figure(figsize=(10, 5))\n",
        "plt.plot(nhanes_age_height['RIDAGEYR'], nhanes_age_height['BMXHT'], marker ='o')\n",
        "plt.title('Conditional Mean of Height by Age Category')\n",
        "plt.xlabel('RIDAGEYR')\n",
        "plt.ylabel('BMXHT')\n",
        "plt.grid(True)\n",
        "plt.show()"
      ],
      "metadata": {
        "id": "FxoBqusg5bPj",
        "colab": {
          "base_uri": "https://localhost:8080/",
          "height": 487
        },
        "outputId": "2aea1cde-065e-44ec-e946-4b479440460c"
      },
      "execution_count": 27,
      "outputs": [
        {
          "output_type": "display_data",
          "data": {
            "text/plain": [
              "<Figure size 1000x500 with 1 Axes>"
            ],
            "image/png": "[encoded data removed]"
          },
          "metadata": {}
        }
      ]
    },
    {
      "cell_type": "markdown",
      "source": [
        "when we plot the average height by age, you're looking for how smoothly the plot points, which represents the average height for an age category, in youth, then using linear regression approximation, we can estimate how height changes with each increment of the age value. But, looking at this graph, we notice that the dots begin to veer off a straight path as it reaches a certain \"threshold\" age, which likely indicates an leveling out of height data at this age category."
      ],
      "metadata": {
        "id": "y-fi4Fzg5be6"
      }
    },
    {
      "cell_type": "markdown",
      "metadata": {
        "id": "9-apP3r35aGo"
      },
      "source": [
        "### Q1.c\n",
        "\n",
        "Using the plot from the previous problem, select a new upper cutoff for age. Create a table restricted to those ages (call it `under_AGE`, where `AGE` is the value you select as a cutoff, such 8).\n",
        "\n",
        "Compute the correlation of age and height for the `youth` table and also for the `under_AGE` table. What are these values telling you?"
      ]
    },
    {
      "cell_type": "code",
      "source": [
        "under_AGE = youth[youth[\"RIDAGEYR\"] < 8]"
      ],
      "metadata": {
        "id": "Lrvxxlws5fbO"
      },
      "execution_count": 28,
      "outputs": []
    },
    {
      "cell_type": "code",
      "source": [
        "x = youth[\"RIDAGEYR\"].corr(youth['BMXHT'])\n",
        "y = under_AGE[\"RIDAGEYR\"].corr(under_AGE['BMXHT'])\n",
        "print(x)\n",
        "print(y)"
      ],
      "metadata": {
        "colab": {
          "base_uri": "https://localhost:8080/"
        },
        "id": "DOacuwI_-lY7",
        "outputId": "41eb28b7-fcca-4549-95c8-0d1aea81f424"
      },
      "execution_count": 29,
      "outputs": [
        {
          "output_type": "stream",
          "name": "stdout",
          "text": [
            "0.9445055050530238\n",
            "0.9133268148315347\n"
          ]
        }
      ]
    },
    {
      "cell_type": "markdown",
      "source": [],
      "metadata": {
        "id": "awcMnt9a5hxQ"
      }
    },
    {
      "cell_type": "markdown",
      "metadata": {
        "id": "p1LEkJPo5aGo"
      },
      "source": [
        "### Q1.d\n",
        "\n",
        "Use `sm.OLS` to fit a linear regression to these the `under_AGE` data (with $x$ as `RIDAGEYR` and $y$ as `BMXHT`). Don't forget to use `sm.add_constant`.\n",
        "\n",
        "Interpret the slope parameter. What does it tell us about the average heights of groups of children who differ in age by one year?"
      ]
    },
    {
      "cell_type": "code",
      "source": [
        "under_AGE = under_AGE.dropna(subset=[\"BMXHT\"])\n",
        "under_AGE.isnull().sum()"
      ],
      "metadata": {
        "colab": {
          "base_uri": "https://localhost:8080/"
        },
        "id": "rSuXbqJ6HV2i",
        "outputId": "362e5638-90d3-4e5b-f8b5-1572be0ebaf4"
      },
      "execution_count": 30,
      "outputs": [
        {
          "output_type": "execute_result",
          "data": {
            "text/plain": [
              "SEQN           0\n",
              "RIDAGEYR       0\n",
              "RIAGENDR       0\n",
              "BMXWT          2\n",
              "BMXHT          0\n",
              "BMXBMI         2\n",
              "BPXSY1      1259\n",
              "BPXSY2      1259\n",
              "BPXSY3      1259\n",
              "dtype: int64"
            ]
          },
          "metadata": {},
          "execution_count": 30
        }
      ]
    },
    {
      "cell_type": "code",
      "source": [
        "X = under_AGE['RIDAGEYR']\n",
        "y = under_AGE['BMXHT']\n",
        "\n",
        "X = sm.add_constant(X)\n",
        "\n",
        "model = sm.OLS(y, X).fit()\n",
        "print(model.summary())"
      ],
      "metadata": {
        "id": "nNO13SOU5q1p",
        "colab": {
          "base_uri": "https://localhost:8080/"
        },
        "outputId": "4fb27f4e-0b03-4172-d5ab-eb2e71b98d99"
      },
      "execution_count": 31,
      "outputs": [
        {
          "output_type": "stream",
          "name": "stdout",
          "text": [
            "                            OLS Regression Results                            \n",
            "==============================================================================\n",
            "Dep. Variable:                  BMXHT   R-squared:                       0.834\n",
            "Model:                            OLS   Adj. R-squared:                  0.834\n",
            "Method:                 Least Squares   F-statistic:                     6323.\n",
            "Date:                Tue, 19 Mar 2024   Prob (F-statistic):               0.00\n",
            "Time:                        19:34:32   Log-Likelihood:                -3909.9\n",
            "No. Observations:                1259   AIC:                             7824.\n",
            "Df Residuals:                    1257   BIC:                             7834.\n",
            "Df Model:                           1                                         \n",
            "Covariance Type:            nonrobust                                         \n",
            "==============================================================================\n",
            "                 coef    std err          t      P>|t|      [0.025      0.975]\n",
            "------------------------------------------------------------------------------\n",
            "const         78.0103      0.415    187.963      0.000      77.196      78.825\n",
            "RIDAGEYR       6.8599      0.086     79.516      0.000       6.691       7.029\n",
            "==============================================================================\n",
            "Omnibus:                       23.837   Durbin-Watson:                   1.929\n",
            "Prob(Omnibus):                  0.000   Jarque-Bera (JB):               27.152\n",
            "Skew:                           0.277   Prob(JB):                     1.27e-06\n",
            "Kurtosis:                       3.460   Cond. No.                         13.6\n",
            "==============================================================================\n",
            "\n",
            "Notes:\n",
            "[1] Standard Errors assume that the covariance matrix of the errors is correctly specified.\n"
          ]
        }
      ]
    },
    {
      "cell_type": "markdown",
      "source": [],
      "metadata": {
        "id": "mPfADZkB5rQL"
      }
    },
    {
      "cell_type": "markdown",
      "metadata": {
        "id": "McItFtPl5aGo"
      },
      "source": [
        "### Q1.e\n",
        "\n",
        "Using the previous result, what does the model tell us is the average height for a 10 year old?\n",
        "\n",
        "What would this model predict for a 40 year old. Does this seem reasonable?"
      ]
    },
    {
      "cell_type": "code",
      "source": [
        "fourty = nhanes.loc[nhanes[\"RIDAGEYR\"] == 40]\n",
        "X = fourty['RIDAGEYR']\n",
        "y = fourty['BMXHT']\n",
        "\n",
        "X = sm.add_constant(X)\n",
        "\n",
        "model = sm.OLS(y, X).fit()\n",
        "print(model.summary())"
      ],
      "metadata": {
        "id": "U2tSR3Bm5vox",
        "colab": {
          "base_uri": "https://localhost:8080/"
        },
        "outputId": "4473e4f2-2b4d-4088-bed7-da197a43c3b2"
      },
      "execution_count": 32,
      "outputs": [
        {
          "output_type": "stream",
          "name": "stdout",
          "text": [
            "                            OLS Regression Results                            \n",
            "==============================================================================\n",
            "Dep. Variable:                  BMXHT   R-squared:                      -0.000\n",
            "Model:                            OLS   Adj. R-squared:                 -0.000\n",
            "Method:                 Least Squares   F-statistic:                       nan\n",
            "Date:                Tue, 19 Mar 2024   Prob (F-statistic):                nan\n",
            "Time:                        19:34:32   Log-Likelihood:                -359.88\n",
            "No. Observations:                  93   AIC:                             721.8\n",
            "Df Residuals:                      92   BIC:                             724.3\n",
            "Df Model:                           0                                         \n",
            "Covariance Type:            nonrobust                                         \n",
            "==============================================================================\n",
            "                 coef    std err          t      P>|t|      [0.025      0.975]\n",
            "------------------------------------------------------------------------------\n",
            "RIDAGEYR       4.1497      0.030    137.291      0.000       4.090       4.210\n",
            "==============================================================================\n",
            "Omnibus:                        1.170   Durbin-Watson:                   1.597\n",
            "Prob(Omnibus):                  0.557   Jarque-Bera (JB):                1.033\n",
            "Skew:                           0.016   Prob(JB):                        0.597\n",
            "Kurtosis:                       2.485   Cond. No.                         1.00\n",
            "==============================================================================\n",
            "\n",
            "Notes:\n",
            "[1] Standard Errors assume that the covariance matrix of the errors is correctly specified.\n"
          ]
        }
      ]
    },
    {
      "cell_type": "markdown",
      "source": [],
      "metadata": {
        "id": "5q9KEEaG5wAd"
      }
    },
    {
      "cell_type": "markdown",
      "source": [
        "## Question 2\n",
        "\n",
        "Lets return to two of our earlier data sets and perform some linear regression to re-investigate some of the analyses we did previously.\n",
        "\n"
      ],
      "metadata": {
        "id": "eSVJnUSjZUfI"
      }
    },
    {
      "cell_type": "code",
      "source": [
        "acs = pd.read_csv(\"/content/gdrive/MyDrive/Stats 206 Winter 2024/data/pums_short.csv.gz\")"
      ],
      "metadata": {
        "id": "C_poefzTaagE"
      },
      "execution_count": 33,
      "outputs": []
    },
    {
      "cell_type": "markdown",
      "source": [
        "### Q2.a\n",
        "\n",
        "First, we will look at the American Community Survey (ACS) data of households in the United States."
      ],
      "metadata": {
        "id": "LHV7ltVps51V"
      }
    },
    {
      "cell_type": "markdown",
      "source": [
        "Perform a linear regression on the variables \"VALP\" ($Y$) and \"HINCP\" ($X$). Interpret the value of the coefficient? Compare two groups that differe on household income by \\$10,000. What would the average difference in property values be for these two groups?"
      ],
      "metadata": {
        "id": "Hwzhi9ELajgV"
      }
    },
    {
      "cell_type": "code",
      "source": [
        "acs = acs.dropna(subset=['HINCP', 'VALP'])\n",
        "acs = acs.replace([np.inf, -np.inf], np.nan).dropna(subset=['HINCP', 'VALP'])\n",
        "X = acs[\"HINCP\"]\n",
        "y = acs[\"VALP\"]\n",
        "\n",
        "X = sm.add_constant(X)\n",
        "model = sm.OLS(y, X).fit()\n",
        "print(model.summary())\n",
        "\n",
        "slope = model.params['HINCP']\n",
        "difference_valp = slope * 10000\n",
        "print(f\"Average difference is property values: ${difference_valp}\")"
      ],
      "metadata": {
        "id": "CMvjaOBIkFQZ",
        "colab": {
          "base_uri": "https://localhost:8080/"
        },
        "outputId": "1abf1e8a-bde2-4e8a-fab7-069d47787658"
      },
      "execution_count": 34,
      "outputs": [
        {
          "output_type": "stream",
          "name": "stdout",
          "text": [
            "                            OLS Regression Results                            \n",
            "==============================================================================\n",
            "Dep. Variable:                   VALP   R-squared:                       0.184\n",
            "Model:                            OLS   Adj. R-squared:                  0.184\n",
            "Method:                 Least Squares   F-statistic:                 3.977e+04\n",
            "Date:                Tue, 19 Mar 2024   Prob (F-statistic):               0.00\n",
            "Time:                        19:34:35   Log-Likelihood:            -2.5274e+06\n",
            "No. Observations:              176604   AIC:                         5.055e+06\n",
            "Df Residuals:                  176602   BIC:                         5.055e+06\n",
            "Df Model:                           1                                         \n",
            "Covariance Type:            nonrobust                                         \n",
            "==============================================================================\n",
            "                 coef    std err          t      P>|t|      [0.025      0.975]\n",
            "------------------------------------------------------------------------------\n",
            "const        1.42e+05   1306.273    108.680      0.000    1.39e+05    1.45e+05\n",
            "HINCP          1.7376      0.009    199.431      0.000       1.721       1.755\n",
            "==============================================================================\n",
            "Omnibus:                   216139.807   Durbin-Watson:                   1.782\n",
            "Prob(Omnibus):                  0.000   Jarque-Bera (JB):         39353615.454\n",
            "Skew:                           6.585   Prob(JB):                         0.00\n",
            "Kurtosis:                      74.935   Cond. No.                     2.07e+05\n",
            "==============================================================================\n",
            "\n",
            "Notes:\n",
            "[1] Standard Errors assume that the covariance matrix of the errors is correctly specified.\n",
            "[2] The condition number is large, 2.07e+05. This might indicate that there are\n",
            "strong multicollinearity or other numerical problems.\n",
            "Average difference is property values: $17376.011615527812\n"
          ]
        }
      ]
    },
    {
      "cell_type": "code",
      "source": [
        "acs.columns"
      ],
      "metadata": {
        "colab": {
          "base_uri": "https://localhost:8080/"
        },
        "id": "Pbo-VIPaGvxv",
        "outputId": "5f1e99d6-88d1-4a25-85fc-c0627ab0870a"
      },
      "execution_count": 35,
      "outputs": [
        {
          "output_type": "execute_result",
          "data": {
            "text/plain": [
              "Index(['DIVISION', 'PUMA', 'REGION', 'ST', 'NP', 'MRGP', 'RNTP', 'TEN', 'VALP',\n",
              "       'VEH', 'YBL', 'FES', 'FINCP', 'FPARC', 'HHT', 'HINCP', 'HUPAC', 'MV',\n",
              "       'NOC', 'NPF', 'NR', 'NRC', 'PARTNER', 'R18', 'R60', 'R65', 'TAXAMT',\n",
              "       'WIF', 'WKEXREL', 'WORKSTAT', 'FFINCP'],\n",
              "      dtype='object')"
            ]
          },
          "metadata": {},
          "execution_count": 35
        }
      ]
    },
    {
      "cell_type": "markdown",
      "source": [
        "**The coefficient here is telling us that the average change in the property value for every 1 dollar increase in the household income. The calculation and the interpretation can both provide insights into valuable information(s) that are associated with the property's valye as well as the fit of the linear model within the newly cleansed dataset, without the NaN values, properties in the two desired columns of research.**"
      ],
      "metadata": {
        "id": "7WT6Rvah5z87"
      }
    },
    {
      "cell_type": "markdown",
      "source": [
        "### Q2.b\n",
        "\n",
        "\n",
        "\n",
        "\n"
      ],
      "metadata": {
        "id": "FqkdP7IokuCT"
      }
    },
    {
      "cell_type": "markdown",
      "source": [
        "* Create a variable `has_65` that is True when a household as at least one person 65 or older using the `R65` variable already in the `acs` table.\n",
        "* Calling `has_65` $X$ and `HINCP` $Y$, compute the conditional means  $\\bar Y \\mid X = 1$ and $\\bar Y \\mid X = 0$ (recall that True is equivalent to 1 and False is equivalent to 0).\n",
        "* Compute the difference in conditional means."
      ],
      "metadata": {
        "id": "1uNTdBFrpPeo"
      }
    },
    {
      "cell_type": "code",
      "source": [
        "acs[\"has_65\"] = (acs[\"R65\"]).astype(bool)\n",
        "conditional_mean = acs.groupby('has_65')['HINCP'].mean()\n",
        "print(f\"Conditional Mean: {conditional_mean}\")\n",
        "\n",
        "mean_income_65 = conditional_mean[True]\n",
        "mean_income_wo_65 = conditional_mean[False]\n",
        "var_diff = mean_income_65 - mean_income_wo_65\n",
        "\n",
        "print(f\"Mean income with atleast one family member of age 65 or older in a household: ${mean_income_65.round(3)}\")\n",
        "print(f\"Mean income without anyone of age 65 or older in a household: ${mean_income_wo_65.round(3)}\")\n",
        "print(f\"The difference in income: {var_diff.round(2)}\")"
      ],
      "metadata": {
        "colab": {
          "base_uri": "https://localhost:8080/"
        },
        "id": "OwjlFOOWFYd3",
        "outputId": "684cf765-8290-4104-bf9d-ac552d34f7cf"
      },
      "execution_count": 57,
      "outputs": [
        {
          "output_type": "stream",
          "name": "stdout",
          "text": [
            "Conditional Mean: has_65\n",
            "False    118348.961978\n",
            "True      81629.257677\n",
            "Name: HINCP, dtype: float64\n",
            "Mean income with atleast one family member of age 65 or older in a household: $81629.258\n",
            "Mean income without anyone of age 65 or older in a household: $118348.962\n",
            "The difference in income: -36719.7\n"
          ]
        }
      ]
    },
    {
      "cell_type": "markdown",
      "source": [],
      "metadata": {
        "id": "pGQZe8KDpRoM"
      }
    },
    {
      "cell_type": "markdown",
      "source": [
        "### Q2.c\n",
        "\n",
        "Note: while Python almost always treats True and False and 1 and 0, one exception it the OLS function. Use `.astype(\"int\")` to convert your `has_65` variable to actual 1 and 0 values.\n",
        "\n",
        "* Run a regression of household income ($Y$) on the 0/1 version of `has_65` ($X$) and show the fitted coefficients.\n",
        "* Calculate the conditional means for $X = 1$ and $X = 0$ according to this model.\n",
        "* What do you notice about these results compared to the previous step? What is another interpretation of the slope coefficient when $X$ is a 0/1 variable?\n",
        "\n"
      ],
      "metadata": {
        "id": "4spVrDgSrtyN"
      }
    },
    {
      "cell_type": "code",
      "source": [
        "acs[\"has_65\"] = (acs[\"R65\"]).astype(int)\n",
        "X = acs[\"has_65\"]\n",
        "y = acs[\"HINCP\"]\n",
        "\n",
        "X = sm.add_constant(X)\n",
        "model = sm.OLS(y, X).fit()\n",
        "print(model.summary())"
      ],
      "metadata": {
        "id": "dC7IAJc9uJeM",
        "colab": {
          "base_uri": "https://localhost:8080/"
        },
        "outputId": "1c50b4ce-3a82-4f65-b02b-acc5dfd342d1"
      },
      "execution_count": 46,
      "outputs": [
        {
          "output_type": "stream",
          "name": "stdout",
          "text": [
            "                            OLS Regression Results                            \n",
            "==============================================================================\n",
            "Dep. Variable:                  HINCP   R-squared:                       0.016\n",
            "Model:                            OLS   Adj. R-squared:                  0.016\n",
            "Method:                 Least Squares   F-statistic:                     2813.\n",
            "Date:                Tue, 19 Mar 2024   Prob (F-statistic):               0.00\n",
            "Time:                        19:43:08   Log-Likelihood:            -2.2968e+06\n",
            "No. Observations:              176604   AIC:                         4.594e+06\n",
            "Df Residuals:                  176602   BIC:                         4.594e+06\n",
            "Df Model:                           1                                         \n",
            "Covariance Type:            nonrobust                                         \n",
            "==============================================================================\n",
            "                 coef    std err          t      P>|t|      [0.025      0.975]\n",
            "------------------------------------------------------------------------------\n",
            "const       1.137e+05    320.454    354.795      0.000    1.13e+05    1.14e+05\n",
            "has_65     -1.779e+04    335.433    -53.036      0.000   -1.84e+04   -1.71e+04\n",
            "==============================================================================\n",
            "Omnibus:                   136040.922   Durbin-Watson:                   1.925\n",
            "Prob(Omnibus):                  0.000   Jarque-Bera (JB):          3465498.456\n",
            "Skew:                           3.543   Prob(JB):                         0.00\n",
            "Kurtosis:                      23.512   Cond. No.                         2.01\n",
            "==============================================================================\n",
            "\n",
            "Notes:\n",
            "[1] Standard Errors assume that the covariance matrix of the errors is correctly specified.\n"
          ]
        }
      ]
    },
    {
      "cell_type": "markdown",
      "source": [
        "**The contrast between direct calculations or average outcomes from the data and indirect inferences derived from regression coefficients probably yields meaningful insights into the nature of the linear regressions and associations captured by the Ordinary Least Squares (OLS) regression. In my study, I helped quantify the comparison helps elucidate any presumptions or constraints embedded within the linear modeling technique. When examining a binary (0/1) predictor variable within a regression model, the slope coefficient signifies the mean differential in the response variable between the binary categories established by the predictor. Specifically, this predictor variable measures the impact on household income of including at least one individual aged 65 or above.**"
      ],
      "metadata": {
        "id": "3wdobX5j531B"
      }
    },
    {
      "cell_type": "markdown",
      "metadata": {
        "id": "VkCcPLG_5aGp"
      },
      "source": [
        "## Question 3\n",
        "In this problem, we will return to the full `nhanes` data set."
      ]
    },
    {
      "cell_type": "markdown",
      "metadata": {
        "id": "TFIbwqpQ5aGp"
      },
      "source": [
        "### Q3.a\n",
        "\n",
        "Create a new column that is `1` or `True` when the subject is female and `0` or `False` otherwise.\n",
        "Call it `is_female`."
      ]
    },
    {
      "cell_type": "code",
      "source": [
        "nhanes[\"is_female\"] = (nhanes['RIAGENDR'] == 'Female').astype(int)"
      ],
      "metadata": {
        "id": "2vWy2XBE5_5a"
      },
      "execution_count": 39,
      "outputs": []
    },
    {
      "cell_type": "markdown",
      "source": [
        "Compute the proportion of rows that are labeled \"Female.\""
      ],
      "metadata": {
        "id": "_Afivil26Ias"
      }
    },
    {
      "cell_type": "code",
      "source": [
        "female_proportion = nhanes['is_female'].mean()\n",
        "print(f\"The proportion of rows labeled 'is_female' is  {female_proportion.round(4)}\")"
      ],
      "metadata": {
        "id": "x9_62B-f6NBh",
        "colab": {
          "base_uri": "https://localhost:8080/"
        },
        "outputId": "2a66cb27-a9d9-49dd-8d04-31a6a425829a"
      },
      "execution_count": 44,
      "outputs": [
        {
          "output_type": "stream",
          "name": "stdout",
          "text": [
            "The proportion of rows labeled 'is_female' is  0.5101\n"
          ]
        }
      ]
    },
    {
      "cell_type": "markdown",
      "metadata": {
        "id": "HubumTYG5aGp"
      },
      "source": [
        "What if we were to select an observation at random (with equally probability of picking each observation) from this data set, what is the approximate probability I would select a female subject?"
      ]
    },
    {
      "cell_type": "markdown",
      "source": [
        "**The approximate probability of picking a female subject at random given this observation, would be the value of the female_proportions variable. In other words, if each observation has an equal chance of being selected, then the probability of selecting a female is approximately the same as the proportion of rows labeled 'Female', which is 0.5101 or 51.01%.**"
      ],
      "metadata": {
        "id": "Gj3MBf4x6FkW"
      }
    },
    {
      "cell_type": "markdown",
      "metadata": {
        "id": "mghbWv2w5aG6"
      },
      "source": [
        "### Q3.b\n",
        "\n"
      ]
    },
    {
      "cell_type": "markdown",
      "source": [
        "Here is some example code that randomly selects 1 person and sees if that person has a height less than or equal to 140cm."
      ],
      "metadata": {
        "id": "asUpOCiQ3ot5"
      }
    },
    {
      "cell_type": "code",
      "source": [
        "np.random.seed(206101) # makes sure result is always the same even though it is \"random\"\n",
        "person = nhanes[\"BMXHT\"].dropna().sample()\n",
        "(person, person <= 140)"
      ],
      "metadata": {
        "colab": {
          "base_uri": "https://localhost:8080/"
        },
        "id": "wPP4jNTV3ziS",
        "outputId": "ec42c63e-2953-43a5-e103-dddd6bdcc1d5"
      },
      "execution_count": 37,
      "outputs": [
        {
          "output_type": "execute_result",
          "data": {
            "text/plain": [
              "(7844    168.9\n",
              " Name: BMXHT, dtype: float64,\n",
              " 7844    False\n",
              " Name: BMXHT, dtype: bool)"
            ]
          },
          "metadata": {},
          "execution_count": 37
        }
      ]
    },
    {
      "cell_type": "markdown",
      "source": [
        "This code repeats that process 1,000,000 times."
      ],
      "metadata": {
        "id": "TnDt_myH30JY"
      }
    },
    {
      "cell_type": "code",
      "execution_count": 38,
      "metadata": {
        "id": "1eJOolv75aG6",
        "outputId": "3ffd5784-fa30-4fc4-d2d1-5c7e55d6ddf9",
        "colab": {
          "base_uri": "https://localhost:8080/"
        }
      },
      "outputs": [
        {
          "output_type": "execute_result",
          "data": {
            "text/plain": [
              "0.196836"
            ]
          },
          "metadata": {},
          "execution_count": 38
        }
      ],
      "source": [
        "np.random.seed(206101) # makes sure result is always the same even though it is \"random\"\n",
        "samples = nhanes[\"BMXHT\"].dropna().sample(1000000, replace = True)\n",
        "(samples <= 140).mean()"
      ]
    },
    {
      "cell_type": "markdown",
      "source": [],
      "metadata": {
        "id": "SsyrQEa23czm"
      }
    },
    {
      "cell_type": "markdown",
      "metadata": {
        "id": "7kt0jEaL5aG6"
      },
      "source": [
        "Repeat the simulation above but instead find the probability of (uniformly) selecting a NHANES subject who is female. Compare this to the value we computed in 3.a and explain why they are similar."
      ]
    },
    {
      "cell_type": "code",
      "source": [],
      "metadata": {
        "id": "YvgTwkQY3C97"
      },
      "execution_count": 38,
      "outputs": []
    },
    {
      "cell_type": "markdown",
      "source": [],
      "metadata": {
        "id": "53dBHx0b3IE_"
      }
    }
  ],
  "metadata": {
    "jupytext": {
      "cell_metadata_filter": "-all",
      "main_language": "python",
      "notebook_metadata_filter": "-all"
    },
    "kernelspec": {
      "display_name": "Python 3 (ipykernel)",
      "language": "python",
      "name": "python3"
    },
    "language_info": {
      "codemirror_mode": {
        "name": "ipython",
        "version": 3
      },
      "file_extension": ".py",
      "mimetype": "text/x-python",
      "name": "python",
      "nbconvert_exporter": "python",
      "pygments_lexer": "ipython3",
      "version": "3.9.7"
    },
    "colab": {
      "provenance": [],
      "include_colab_link": true
    }
  },
  "nbformat": 4,
  "nbformat_minor": 0
}